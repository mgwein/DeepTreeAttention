{
 "cells": [
  {
   "cell_type": "code",
   "execution_count": 1,
   "metadata": {},
   "outputs": [
    {
     "data": {
      "text/html": [
       "<div>\n",
       "<style scoped>\n",
       "    .dataframe tbody tr th:only-of-type {\n",
       "        vertical-align: middle;\n",
       "    }\n",
       "\n",
       "    .dataframe tbody tr th {\n",
       "        vertical-align: top;\n",
       "    }\n",
       "\n",
       "    .dataframe thead th {\n",
       "        text-align: right;\n",
       "    }\n",
       "</style>\n",
       "<table border=\"1\" class=\"dataframe\">\n",
       "  <thead>\n",
       "    <tr style=\"text-align: right;\">\n",
       "      <th></th>\n",
       "      <th>image_path</th>\n",
       "      <th>taxonID</th>\n",
       "      <th>plotID</th>\n",
       "      <th>individualID</th>\n",
       "      <th>RGB_tile</th>\n",
       "      <th>siteID</th>\n",
       "      <th>box_id</th>\n",
       "      <th>point_id</th>\n",
       "      <th>label</th>\n",
       "      <th>site</th>\n",
       "    </tr>\n",
       "  </thead>\n",
       "  <tbody>\n",
       "    <tr>\n",
       "      <th>0</th>\n",
       "      <td>OSBS_megaplot.contrib.1203.tif</td>\n",
       "      <td>QULA2</td>\n",
       "      <td>100_contrib</td>\n",
       "      <td>OSBS_megaplot.contrib.1203</td>\n",
       "      <td>/orange/ewhite/NeonData/OSBS/DP3.30010.001/202...</td>\n",
       "      <td>OSBS</td>\n",
       "      <td>17</td>\n",
       "      <td>0</td>\n",
       "      <td>11</td>\n",
       "      <td>0</td>\n",
       "    </tr>\n",
       "    <tr>\n",
       "      <th>1</th>\n",
       "      <td>OSBS_megaplot.contrib.1191.tif</td>\n",
       "      <td>QULA2</td>\n",
       "      <td>100_contrib</td>\n",
       "      <td>OSBS_megaplot.contrib.1191</td>\n",
       "      <td>/orange/ewhite/NeonData/OSBS/DP3.30010.001/202...</td>\n",
       "      <td>OSBS</td>\n",
       "      <td>fixed_box_0</td>\n",
       "      <td>0</td>\n",
       "      <td>11</td>\n",
       "      <td>0</td>\n",
       "    </tr>\n",
       "    <tr>\n",
       "      <th>2</th>\n",
       "      <td>OSBS_megaplot.contrib.1200.tif</td>\n",
       "      <td>QULA2</td>\n",
       "      <td>100_contrib</td>\n",
       "      <td>OSBS_megaplot.contrib.1200</td>\n",
       "      <td>/orange/ewhite/NeonData/OSBS/DP3.30010.001/202...</td>\n",
       "      <td>OSBS</td>\n",
       "      <td>fixed_box_1</td>\n",
       "      <td>0</td>\n",
       "      <td>11</td>\n",
       "      <td>0</td>\n",
       "    </tr>\n",
       "    <tr>\n",
       "      <th>3</th>\n",
       "      <td>OSBS_megaplot.contrib.1220.tif</td>\n",
       "      <td>QULA2</td>\n",
       "      <td>101_contrib</td>\n",
       "      <td>OSBS_megaplot.contrib.1220</td>\n",
       "      <td>/orange/ewhite/NeonData/OSBS/DP3.30010.001/202...</td>\n",
       "      <td>OSBS</td>\n",
       "      <td>23</td>\n",
       "      <td>0</td>\n",
       "      <td>11</td>\n",
       "      <td>0</td>\n",
       "    </tr>\n",
       "    <tr>\n",
       "      <th>4</th>\n",
       "      <td>OSBS_megaplot.contrib.1206.tif</td>\n",
       "      <td>QULA2</td>\n",
       "      <td>101_contrib</td>\n",
       "      <td>OSBS_megaplot.contrib.1206</td>\n",
       "      <td>/orange/ewhite/NeonData/OSBS/DP3.30010.001/202...</td>\n",
       "      <td>OSBS</td>\n",
       "      <td>fixed_box_3</td>\n",
       "      <td>0</td>\n",
       "      <td>11</td>\n",
       "      <td>0</td>\n",
       "    </tr>\n",
       "  </tbody>\n",
       "</table>\n",
       "</div>"
      ],
      "text/plain": [
       "                       image_path taxonID       plotID  \\\n",
       "0  OSBS_megaplot.contrib.1203.tif   QULA2  100_contrib   \n",
       "1  OSBS_megaplot.contrib.1191.tif   QULA2  100_contrib   \n",
       "2  OSBS_megaplot.contrib.1200.tif   QULA2  100_contrib   \n",
       "3  OSBS_megaplot.contrib.1220.tif   QULA2  101_contrib   \n",
       "4  OSBS_megaplot.contrib.1206.tif   QULA2  101_contrib   \n",
       "\n",
       "                 individualID  \\\n",
       "0  OSBS_megaplot.contrib.1203   \n",
       "1  OSBS_megaplot.contrib.1191   \n",
       "2  OSBS_megaplot.contrib.1200   \n",
       "3  OSBS_megaplot.contrib.1220   \n",
       "4  OSBS_megaplot.contrib.1206   \n",
       "\n",
       "                                            RGB_tile siteID       box_id  \\\n",
       "0  /orange/ewhite/NeonData/OSBS/DP3.30010.001/202...   OSBS           17   \n",
       "1  /orange/ewhite/NeonData/OSBS/DP3.30010.001/202...   OSBS  fixed_box_0   \n",
       "2  /orange/ewhite/NeonData/OSBS/DP3.30010.001/202...   OSBS  fixed_box_1   \n",
       "3  /orange/ewhite/NeonData/OSBS/DP3.30010.001/202...   OSBS           23   \n",
       "4  /orange/ewhite/NeonData/OSBS/DP3.30010.001/202...   OSBS  fixed_box_3   \n",
       "\n",
       "   point_id  label  site  \n",
       "0         0     11     0  \n",
       "1         0     11     0  \n",
       "2         0     11     0  \n",
       "3         0     11     0  \n",
       "4         0     11     0  "
      ]
     },
     "execution_count": 1,
     "metadata": {},
     "output_type": "execute_result"
    }
   ],
   "source": [
    "import pandas as pd\n",
    "\n",
    "df = pd.read_csv(\"testtrain_all.csv\")\n",
    "\n",
    "df.head()"
   ]
  },
  {
   "cell_type": "code",
   "execution_count": 2,
   "metadata": {},
   "outputs": [
    {
     "data": {
      "text/html": [
       "<div>\n",
       "<style scoped>\n",
       "    .dataframe tbody tr th:only-of-type {\n",
       "        vertical-align: middle;\n",
       "    }\n",
       "\n",
       "    .dataframe tbody tr th {\n",
       "        vertical-align: top;\n",
       "    }\n",
       "\n",
       "    .dataframe thead th {\n",
       "        text-align: right;\n",
       "    }\n",
       "</style>\n",
       "<table border=\"1\" class=\"dataframe\">\n",
       "  <thead>\n",
       "    <tr style=\"text-align: right;\">\n",
       "      <th></th>\n",
       "      <th>image_path</th>\n",
       "      <th>taxonID</th>\n",
       "      <th>plotID</th>\n",
       "      <th>individualID</th>\n",
       "      <th>RGB_tile</th>\n",
       "      <th>siteID</th>\n",
       "      <th>box_id</th>\n",
       "      <th>point_id</th>\n",
       "      <th>label</th>\n",
       "      <th>site</th>\n",
       "    </tr>\n",
       "  </thead>\n",
       "  <tbody>\n",
       "    <tr>\n",
       "      <th>0</th>\n",
       "      <td>OSBS_megaplot.contrib.1203.tif</td>\n",
       "      <td>QULA2</td>\n",
       "      <td>100_contrib</td>\n",
       "      <td>OSBS_megaplot.contrib.1203</td>\n",
       "      <td>/orange/ewhite/NeonData/OSBS/DP3.30010.001/202...</td>\n",
       "      <td>OSBS</td>\n",
       "      <td>17</td>\n",
       "      <td>0</td>\n",
       "      <td>11</td>\n",
       "      <td>0</td>\n",
       "    </tr>\n",
       "    <tr>\n",
       "      <th>1</th>\n",
       "      <td>OSBS_megaplot.contrib.1191.tif</td>\n",
       "      <td>QULA2</td>\n",
       "      <td>100_contrib</td>\n",
       "      <td>OSBS_megaplot.contrib.1191</td>\n",
       "      <td>/orange/ewhite/NeonData/OSBS/DP3.30010.001/202...</td>\n",
       "      <td>OSBS</td>\n",
       "      <td>fixed_box_0</td>\n",
       "      <td>0</td>\n",
       "      <td>11</td>\n",
       "      <td>0</td>\n",
       "    </tr>\n",
       "    <tr>\n",
       "      <th>2</th>\n",
       "      <td>OSBS_megaplot.contrib.1200.tif</td>\n",
       "      <td>QULA2</td>\n",
       "      <td>100_contrib</td>\n",
       "      <td>OSBS_megaplot.contrib.1200</td>\n",
       "      <td>/orange/ewhite/NeonData/OSBS/DP3.30010.001/202...</td>\n",
       "      <td>OSBS</td>\n",
       "      <td>fixed_box_1</td>\n",
       "      <td>0</td>\n",
       "      <td>11</td>\n",
       "      <td>0</td>\n",
       "    </tr>\n",
       "    <tr>\n",
       "      <th>3</th>\n",
       "      <td>OSBS_megaplot.contrib.1220.tif</td>\n",
       "      <td>QULA2</td>\n",
       "      <td>101_contrib</td>\n",
       "      <td>OSBS_megaplot.contrib.1220</td>\n",
       "      <td>/orange/ewhite/NeonData/OSBS/DP3.30010.001/202...</td>\n",
       "      <td>OSBS</td>\n",
       "      <td>23</td>\n",
       "      <td>0</td>\n",
       "      <td>11</td>\n",
       "      <td>0</td>\n",
       "    </tr>\n",
       "    <tr>\n",
       "      <th>4</th>\n",
       "      <td>OSBS_megaplot.contrib.1206.tif</td>\n",
       "      <td>QULA2</td>\n",
       "      <td>101_contrib</td>\n",
       "      <td>OSBS_megaplot.contrib.1206</td>\n",
       "      <td>/orange/ewhite/NeonData/OSBS/DP3.30010.001/202...</td>\n",
       "      <td>OSBS</td>\n",
       "      <td>fixed_box_3</td>\n",
       "      <td>0</td>\n",
       "      <td>11</td>\n",
       "      <td>0</td>\n",
       "    </tr>\n",
       "  </tbody>\n",
       "</table>\n",
       "</div>"
      ],
      "text/plain": [
       "                       image_path taxonID       plotID  \\\n",
       "0  OSBS_megaplot.contrib.1203.tif   QULA2  100_contrib   \n",
       "1  OSBS_megaplot.contrib.1191.tif   QULA2  100_contrib   \n",
       "2  OSBS_megaplot.contrib.1200.tif   QULA2  100_contrib   \n",
       "3  OSBS_megaplot.contrib.1220.tif   QULA2  101_contrib   \n",
       "4  OSBS_megaplot.contrib.1206.tif   QULA2  101_contrib   \n",
       "\n",
       "                 individualID  \\\n",
       "0  OSBS_megaplot.contrib.1203   \n",
       "1  OSBS_megaplot.contrib.1191   \n",
       "2  OSBS_megaplot.contrib.1200   \n",
       "3  OSBS_megaplot.contrib.1220   \n",
       "4  OSBS_megaplot.contrib.1206   \n",
       "\n",
       "                                            RGB_tile siteID       box_id  \\\n",
       "0  /orange/ewhite/NeonData/OSBS/DP3.30010.001/202...   OSBS           17   \n",
       "1  /orange/ewhite/NeonData/OSBS/DP3.30010.001/202...   OSBS  fixed_box_0   \n",
       "2  /orange/ewhite/NeonData/OSBS/DP3.30010.001/202...   OSBS  fixed_box_1   \n",
       "3  /orange/ewhite/NeonData/OSBS/DP3.30010.001/202...   OSBS           23   \n",
       "4  /orange/ewhite/NeonData/OSBS/DP3.30010.001/202...   OSBS  fixed_box_3   \n",
       "\n",
       "   point_id  label  site  \n",
       "0         0     11     0  \n",
       "1         0     11     0  \n",
       "2         0     11     0  \n",
       "3         0     11     0  \n",
       "4         0     11     0  "
      ]
     },
     "execution_count": 2,
     "metadata": {},
     "output_type": "execute_result"
    }
   ],
   "source": [
    "df.head()"
   ]
  },
  {
   "cell_type": "code",
   "execution_count": 4,
   "metadata": {},
   "outputs": [
    {
     "data": {
      "text/plain": [
       "PIPA2    127\n",
       "QUGE2    114\n",
       "QULA2    104\n",
       "QUHE2     62\n",
       "QUNI      60\n",
       "CAGL8     48\n",
       "PICL      44\n",
       "ACRU      31\n",
       "LIST2     31\n",
       "PITA      30\n",
       "MAGNO     28\n",
       "PIEL      24\n",
       "QUVI      24\n",
       "NYSY      23\n",
       "Name: taxonID, dtype: int64"
      ]
     },
     "execution_count": 4,
     "metadata": {},
     "output_type": "execute_result"
    }
   ],
   "source": [
    "df[\"taxonID\"].value_counts()"
   ]
  },
  {
   "cell_type": "code",
   "execution_count": 5,
   "metadata": {},
   "outputs": [
    {
     "data": {
      "text/plain": [
       "PIPA2    16.933333\n",
       "QUGE2    15.200000\n",
       "QULA2    13.866667\n",
       "QUHE2     8.266667\n",
       "QUNI      8.000000\n",
       "CAGL8     6.400000\n",
       "PICL      5.866667\n",
       "ACRU      4.133333\n",
       "LIST2     4.133333\n",
       "PITA      4.000000\n",
       "MAGNO     3.733333\n",
       "PIEL      3.200000\n",
       "QUVI      3.200000\n",
       "NYSY      3.066667\n",
       "Name: taxonID, dtype: float64"
      ]
     },
     "execution_count": 5,
     "metadata": {},
     "output_type": "execute_result"
    }
   ],
   "source": [
    "df[\"taxonID\"].value_counts(normalize=True)*100"
   ]
  },
  {
   "cell_type": "code",
   "execution_count": 6,
   "metadata": {},
   "outputs": [],
   "source": [
    "from sklearn.model_selection import train_test_split"
   ]
  },
  {
   "cell_type": "code",
   "execution_count": 7,
   "metadata": {},
   "outputs": [
    {
     "data": {
      "text/plain": [
       "Index(['image_path', 'taxonID', 'plotID', 'individualID', 'RGB_tile', 'siteID',\n",
       "       'box_id', 'point_id', 'label', 'site'],\n",
       "      dtype='object')"
      ]
     },
     "execution_count": 7,
     "metadata": {},
     "output_type": "execute_result"
    }
   ],
   "source": [
    "df.columns"
   ]
  },
  {
   "cell_type": "code",
   "execution_count": null,
   "metadata": {},
   "outputs": [],
   "source": [
    "X = df[['image_path', 'plotID', 'individualID', 'RGB_tile', 'siteID',\n",
    "       'box_id', 'point_id', 'label', 'site']]\n",
    "y = df[\"taxonID\"]"
   ]
  },
  {
   "cell_type": "code",
   "execution_count": 8,
   "metadata": {},
   "outputs": [],
   "source": [
    "X"
   ]
  },
  {
   "cell_type": "code",
   "execution_count": 69,
   "metadata": {},
   "outputs": [],
   "source": [
    "X_train, X_test, y_train, y_test = train_test_split(X, y, test_size=0.25, random_state=1)"
   ]
  },
  {
   "cell_type": "code",
   "execution_count": 12,
   "metadata": {},
   "outputs": [
    {
     "data": {
      "text/plain": [
       "(562, 9)"
      ]
     },
     "execution_count": 12,
     "metadata": {},
     "output_type": "execute_result"
    }
   ],
   "source": [
    "X_train.shape"
   ]
  },
  {
   "cell_type": "code",
   "execution_count": 14,
   "metadata": {},
   "outputs": [
    {
     "data": {
      "text/plain": [
       "(188, 9)"
      ]
     },
     "execution_count": 14,
     "metadata": {},
     "output_type": "execute_result"
    }
   ],
   "source": [
    "X_test.shape"
   ]
  },
  {
   "cell_type": "code",
   "execution_count": 16,
   "metadata": {},
   "outputs": [
    {
     "data": {
      "text/plain": [
       "PIPA2    16.370107\n",
       "QUGE2    14.946619\n",
       "QULA2    14.412811\n",
       "QUNI      8.718861\n",
       "QUHE2     8.718861\n",
       "CAGL8     5.693950\n",
       "PICL      5.160142\n",
       "LIST2     4.804270\n",
       "ACRU      4.270463\n",
       "PIEL      3.736655\n",
       "PITA      3.558719\n",
       "MAGNO     3.558719\n",
       "QUVI      3.024911\n",
       "NYSY      3.024911\n",
       "Name: taxonID, dtype: float64"
      ]
     },
     "execution_count": 16,
     "metadata": {},
     "output_type": "execute_result"
    }
   ],
   "source": [
    "y_train.value_counts(normalize=True)*100"
   ]
  },
  {
   "cell_type": "markdown",
   "metadata": {},
   "source": [
    "# Stratified Sampling"
   ]
  },
  {
   "cell_type": "code",
   "execution_count": 19,
   "metadata": {},
   "outputs": [
    {
     "data": {
      "text/plain": [
       "PIPA2    18.617021\n",
       "QUGE2    15.957447\n",
       "QULA2    12.234043\n",
       "CAGL8     8.510638\n",
       "PICL      7.978723\n",
       "QUHE2     6.914894\n",
       "QUNI      5.851064\n",
       "PITA      5.319149\n",
       "MAGNO     4.255319\n",
       "ACRU      3.723404\n",
       "QUVI      3.723404\n",
       "NYSY      3.191489\n",
       "LIST2     2.127660\n",
       "PIEL      1.595745\n",
       "Name: taxonID, dtype: float64"
      ]
     },
     "execution_count": 19,
     "metadata": {},
     "output_type": "execute_result"
    }
   ],
   "source": [
    "y_test.value_counts(normalize=True)*100"
   ]
  },
  {
   "cell_type": "code",
   "execution_count": 92,
   "metadata": {},
   "outputs": [],
   "source": [
    "import numpy as np\n",
    "\n",
    "dftrain1 = pd.DataFrame(y_train)\n",
    "dftrain2 = pd.DataFrame(X_train)\n",
    "dftest1 = pd.DataFrame(y_test)\n",
    "dftest2 = pd.DataFrame(X_test)"
   ]
  },
  {
   "cell_type": "code",
   "execution_count": 66,
   "metadata": {},
   "outputs": [
    {
     "ename": "TypeError",
     "evalue": "concatenate() got multiple values for argument 'axis'",
     "output_type": "error",
     "traceback": [
      "\u001b[1;31m---------------------------------------------------------------------------\u001b[0m",
      "\u001b[1;31mTypeError\u001b[0m                                 Traceback (most recent call last)",
      "\u001b[1;32m~\\AppData\\Local\\Temp/ipykernel_20532/533563150.py\u001b[0m in \u001b[0;36m<module>\u001b[1;34m\u001b[0m\n\u001b[0;32m      4\u001b[0m \u001b[1;31m# train = np.hstack(train_other[:,0], train_labels)\u001b[0m\u001b[1;33m\u001b[0m\u001b[1;33m\u001b[0m\u001b[0m\n\u001b[0;32m      5\u001b[0m \u001b[1;33m\u001b[0m\u001b[0m\n\u001b[1;32m----> 6\u001b[1;33m \u001b[0mtrain\u001b[0m \u001b[1;33m=\u001b[0m \u001b[0mnp\u001b[0m\u001b[1;33m.\u001b[0m\u001b[0mconcatenate\u001b[0m\u001b[1;33m(\u001b[0m\u001b[0mtrain_other\u001b[0m\u001b[1;33m,\u001b[0m \u001b[0mtrain_labels\u001b[0m\u001b[1;33m,\u001b[0m \u001b[0maxis\u001b[0m\u001b[1;33m=\u001b[0m\u001b[1;36m0\u001b[0m\u001b[1;33m)\u001b[0m\u001b[1;33m\u001b[0m\u001b[1;33m\u001b[0m\u001b[0m\n\u001b[0m\u001b[0;32m      7\u001b[0m \u001b[1;31m# train2 = np.column_stack(train_other, train_labels, axis=0)\u001b[0m\u001b[1;33m\u001b[0m\u001b[1;33m\u001b[0m\u001b[0m\n\u001b[0;32m      8\u001b[0m \u001b[1;31m# train = np.horzcat(train_labels)\u001b[0m\u001b[1;33m\u001b[0m\u001b[1;33m\u001b[0m\u001b[0m\n",
      "\u001b[1;32m<__array_function__ internals>\u001b[0m in \u001b[0;36mconcatenate\u001b[1;34m(*args, **kwargs)\u001b[0m\n",
      "\u001b[1;31mTypeError\u001b[0m: concatenate() got multiple values for argument 'axis'"
     ]
    }
   ],
   "source": [
    "# train_labels = np.array(y_train)[np.newaxis].T\n",
    "# train_other = np.array(X_train)\n",
    "\n",
    "# train = np.hstack(train_other[:,0], train_labels)\n",
    "\n",
    "# test_labels = np.array(y_test)[np.newaxis].T\n",
    "# test_other = np.array(X_test)"
   ]
  },
  {
   "cell_type": "code",
   "execution_count": 94,
   "metadata": {},
   "outputs": [],
   "source": [
    "dftrain1.to_csv(\"dftrain1.csv\")\n",
    "dftrain2.to_csv(\"dftrain2.csv\")\n",
    "dftest1.to_csv(\"dftest1.csv\")\n",
    "dftest2.to_csv(\"dftest2.csv\")\n"
   ]
  },
  {
   "cell_type": "code",
   "execution_count": 90,
   "metadata": {},
   "outputs": [
    {
     "data": {
      "text/plain": [
       "[[207         OSBS_clark.contrib.17.tif\n",
       "  107    OSBS_megaplot.contrib.1117.tif\n",
       "  17     OSBS_megaplot.contrib.1382.tif\n",
       "  345       OSBS_graves.contrib.285.tif\n",
       "  172        OSBS_clark.contrib.113.tif\n",
       "                      ...              \n",
       "  645          OSBS_IFAS.contrib.72.tif\n",
       "  715         OSBS_IFAS.contrib.196.tif\n",
       "  72     OSBS_megaplot.contrib.1017.tif\n",
       "  235         OSBS_clark.contrib.51.tif\n",
       "  37      OSBS_megaplot.contrib.168.tif\n",
       "  Name: image_path, Length: 562, dtype: object],\n",
       " [207    QUGE2\n",
       "  107    QULA2\n",
       "  17     QUGE2\n",
       "  345    LIST2\n",
       "  172    PIPA2\n",
       "         ...  \n",
       "  645    QULA2\n",
       "  715    QUGE2\n",
       "  72     PIPA2\n",
       "  235    PIPA2\n",
       "  37     QUGE2\n",
       "  Name: taxonID, Length: 562, dtype: object],\n",
       " [207      OSBS_clark_contrib_25\n",
       "  107                 96_contrib\n",
       "  17                 110_contrib\n",
       "  345    OSBS_graves_contrib_285\n",
       "  172     OSBS_clark_contrib_134\n",
       "                  ...           \n",
       "  645       OSBS_IFAS_contrib_81\n",
       "  715      OSBS_IFAS_contrib_212\n",
       "  72                  88_contrib\n",
       "  235      OSBS_clark_contrib_70\n",
       "  37                  22_contrib\n",
       "  Name: plotID, Length: 562, dtype: object],\n",
       " [207         OSBS_clark.contrib.17\n",
       "  107    OSBS_megaplot.contrib.1117\n",
       "  17     OSBS_megaplot.contrib.1382\n",
       "  345       OSBS_graves.contrib.285\n",
       "  172        OSBS_clark.contrib.113\n",
       "                    ...            \n",
       "  645          OSBS_IFAS.contrib.72\n",
       "  715         OSBS_IFAS.contrib.196\n",
       "  72     OSBS_megaplot.contrib.1017\n",
       "  235         OSBS_clark.contrib.51\n",
       "  37      OSBS_megaplot.contrib.168\n",
       "  Name: individualID, Length: 562, dtype: object]]"
      ]
     },
     "execution_count": 90,
     "metadata": {},
     "output_type": "execute_result"
    }
   ],
   "source": [
    "# train_frames = [dftrain2.image_path, dftrain1.taxonID, dftrain2.plotID, dftrain2.individualID, dftrain2.RGB_tile, dftrain2.siteID, dftrain2.box_id, dftrain2.point_id, dftrain2.label, dftrain2.site]\n",
    "\n",
    "# train_frames"
   ]
  }
 ],
 "metadata": {
  "interpreter": {
   "hash": "7cb93a6fb258a1f1d57be53a0103110b128c9fc994aefb53e43ec96108a1b44f"
  },
  "kernelspec": {
   "display_name": "Python 3.9.10 ('DeepTreeAttention')",
   "language": "python",
   "name": "python3"
  },
  "language_info": {
   "codemirror_mode": {
    "name": "ipython",
    "version": 3
   },
   "file_extension": ".py",
   "mimetype": "text/x-python",
   "name": "python",
   "nbconvert_exporter": "python",
   "pygments_lexer": "ipython3",
   "version": "3.9.7"
  },
  "orig_nbformat": 4
 },
 "nbformat": 4,
 "nbformat_minor": 2
}
